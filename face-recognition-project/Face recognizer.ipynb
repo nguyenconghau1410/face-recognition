{
 "cells": [
  {
   "cell_type": "code",
   "execution_count": 1,
   "id": "da8976cb",
   "metadata": {},
   "outputs": [],
   "source": [
    "#1. Generate dataset\n",
    "#2. Train the classifier and save it\n",
    "#3. Detect the face and named it if it is already stored in our dataset"
   ]
  },
  {
   "cell_type": "markdown",
   "id": "163a6530",
   "metadata": {},
   "source": [
    "# Generate dataset"
   ]
  },
  {
   "cell_type": "code",
   "execution_count": 2,
   "id": "29eac511",
   "metadata": {},
   "outputs": [],
   "source": [
    "import cv2"
   ]
  },
  {
   "cell_type": "code",
   "execution_count": 3,
   "id": "bd539508",
   "metadata": {},
   "outputs": [
    {
     "name": "stderr",
     "output_type": "stream",
     "text": [
      "<>:8: SyntaxWarning: \"is\" with a literal. Did you mean \"==\"?\n",
      "<>:8: SyntaxWarning: \"is\" with a literal. Did you mean \"==\"?\n",
      "C:\\Users\\Admin\\AppData\\Local\\Temp\\ipykernel_668\\308796217.py:8: SyntaxWarning: \"is\" with a literal. Did you mean \"==\"?\n",
      "  if faces is () :\n"
     ]
    }
   ],
   "source": [
    "def generate_dataset() :\n",
    "    face_classifier = cv2.CascadeClassifier(\"haarcascade_frontalface_default.xml\")\n",
    "    def face_cropped(img):\n",
    "        gray = cv2.cvtColor(img, cv2.COLOR_BGR2GRAY)\n",
    "        faces = face_classifier.detectMultiScale(gray, 1.3, 5)\n",
    "        #scaling factor=1.3\n",
    "        #Minimum neighbor=5\n",
    "        if faces is () :\n",
    "            return None\n",
    "        for(x, y, w, h) in faces:\n",
    "            cropped_face = img[y:y+h, x:x+w]\n",
    "        return cropped_face\n",
    "    cap = cv2.VideoCapture(0)\n",
    "    id = 1\n",
    "    img_id = 0\n",
    "    \n",
    "    while True :\n",
    "        ret, frame = cap.read()\n",
    "        if face_cropped(frame) is not None:\n",
    "            img_id += 1\n",
    "            face = cv2.resize(face_cropped(frame), (200, 200))\n",
    "            face = cv2.cvtColor(face, cv2.COLOR_BGR2GRAY)\n",
    "            file_name_path = \"data/user.\" + str(id) + \".\" + str(img_id) + \".jpg\"\n",
    "            cv2.imwrite(file_name_path, face)\n",
    "            cv2.putText(face, str(img_id), (50, 50), cv2.FONT_HERSHEY_COMPLEX, 1, (0, 255, 0), 2)\n",
    "            \n",
    "            cv2.imshow(\"Cropped face\", face)\n",
    "            if cv2.waitKey(1) == 13 or int(img_id) == 30:\n",
    "                break\n",
    "    cap.release()\n",
    "    cv2.destroyAllWindows()\n",
    "    \n",
    "generate_dataset()             \n",
    "            "
   ]
  },
  {
   "cell_type": "markdown",
   "id": "8628cd6d",
   "metadata": {},
   "source": [
    "# Train classifier and save it"
   ]
  },
  {
   "cell_type": "code",
   "execution_count": 4,
   "id": "41385b38",
   "metadata": {},
   "outputs": [],
   "source": [
    "import numpy as np\n",
    "from PIL import Image\n",
    "import os"
   ]
  },
  {
   "cell_type": "code",
   "execution_count": 5,
   "id": "5e7151e6",
   "metadata": {},
   "outputs": [
    {
     "ename": "ValueError",
     "evalue": "invalid literal for int() with base 10: '123456-CONGHAU'",
     "output_type": "error",
     "traceback": [
      "\u001b[1;31m---------------------------------------------------------------------------\u001b[0m",
      "\u001b[1;31mValueError\u001b[0m                                Traceback (most recent call last)",
      "Cell \u001b[1;32mIn[5], line 19\u001b[0m\n\u001b[0;32m     17\u001b[0m     clf\u001b[38;5;241m.\u001b[39mtrain(faces, ids)\n\u001b[0;32m     18\u001b[0m     clf\u001b[38;5;241m.\u001b[39mwrite(\u001b[38;5;124m\"\u001b[39m\u001b[38;5;124mclassifier.xml\u001b[39m\u001b[38;5;124m\"\u001b[39m)\n\u001b[1;32m---> 19\u001b[0m train_classifier(\u001b[38;5;124m\"\u001b[39m\u001b[38;5;124mdata\u001b[39m\u001b[38;5;124m\"\u001b[39m)\n",
      "Cell \u001b[1;32mIn[5], line 9\u001b[0m, in \u001b[0;36mtrain_classifier\u001b[1;34m(data_dir)\u001b[0m\n\u001b[0;32m      7\u001b[0m img \u001b[38;5;241m=\u001b[39m Image\u001b[38;5;241m.\u001b[39mopen(image)\u001b[38;5;241m.\u001b[39mconvert(\u001b[38;5;124m'\u001b[39m\u001b[38;5;124mL\u001b[39m\u001b[38;5;124m'\u001b[39m)\n\u001b[0;32m      8\u001b[0m imageNp \u001b[38;5;241m=\u001b[39m np\u001b[38;5;241m.\u001b[39marray(img, \u001b[38;5;124m'\u001b[39m\u001b[38;5;124muint8\u001b[39m\u001b[38;5;124m'\u001b[39m)\n\u001b[1;32m----> 9\u001b[0m \u001b[38;5;28mid\u001b[39m \u001b[38;5;241m=\u001b[39m \u001b[38;5;28mint\u001b[39m(os\u001b[38;5;241m.\u001b[39mpath\u001b[38;5;241m.\u001b[39msplit(image)[\u001b[38;5;241m1\u001b[39m]\u001b[38;5;241m.\u001b[39msplit(\u001b[38;5;124m\"\u001b[39m\u001b[38;5;124m.\u001b[39m\u001b[38;5;124m\"\u001b[39m)[\u001b[38;5;241m1\u001b[39m])\n\u001b[0;32m     11\u001b[0m faces\u001b[38;5;241m.\u001b[39mappend(imageNp)\n\u001b[0;32m     12\u001b[0m ids\u001b[38;5;241m.\u001b[39mappend(\u001b[38;5;28mid\u001b[39m)\n",
      "\u001b[1;31mValueError\u001b[0m: invalid literal for int() with base 10: '123456-CONGHAU'"
     ]
    }
   ],
   "source": [
    "def train_classifier(data_dir) :\n",
    "    path = [os.path.join(data_dir, f) for f in os.listdir(data_dir)]\n",
    "    faces = []\n",
    "    ids = []\n",
    "    \n",
    "    for image in path:\n",
    "        img = Image.open(image).convert('L')\n",
    "        imageNp = np.array(img, 'uint8')\n",
    "        id = int(os.path.split(image)[1].split(\".\")[1])\n",
    "        \n",
    "        faces.append(imageNp)\n",
    "        ids.append(id)\n",
    "    ids = np.array(ids)\n",
    "    \n",
    "    #Train the classifier anf save\n",
    "    clf = cv2.face.LBPHFaceRecognizer_create()\n",
    "    clf.train(faces, ids)\n",
    "    clf.write(\"classifier.xml\")\n",
    "train_classifier(\"data\")"
   ]
  },
  {
   "cell_type": "markdown",
   "id": "a53d5084",
   "metadata": {},
   "source": [
    "# Detect the face and named it if it is already stored in our dataset"
   ]
  },
  {
   "cell_type": "code",
   "execution_count": null,
   "id": "f175b06d",
   "metadata": {},
   "outputs": [],
   "source": [
    "import cv2\n",
    "import numpy as np\n",
    "from PIL import Image\n",
    "import os\n",
    "\n",
    "def draw_boundary(img, classifier, scaleFactor, minNeighbors, color, text, clf) :\n",
    "    gray_image = cv2.cvtColor(img, cv2.COLOR_BGR2GRAY)\n",
    "    features = classifier.detectMultiScale(gray_image, scaleFactor, minNeighbors)\n",
    "    \n",
    "    coords = []\n",
    "    for(x, y, w, h) in features:\n",
    "        cv2.rectangle(img, (x, y), (x + w, y + h), color, 2)\n",
    "        id, pred = clf.predict(gray_image[y:y+h,x:x+w])\n",
    "        confidence = int(100 * (1 - pred/300))\n",
    "        \n",
    "        if confidence > 70 :\n",
    "            if id == 1:\n",
    "                cv2.putText(img, \"Cong Hau\", (x, y-5), cv2.FONT_HERSHEY_COMPLEX, 0.8, color, 1, cv2.LINE_AA)\n",
    "        else :\n",
    "            cv2.putText(img, \"UNKNOWN\", (x, y-5), cv2.FONT_HERSHEY_COMPLEX, 0.8, (0, 0, 255), 1, cv2.LINE_AA)\n",
    "        \n",
    "        coords = [x, y, w, h]\n",
    "    return coords\n",
    "\n",
    "def recognize(img, clf, faceScascade) :\n",
    "    coords = draw_boundary(img, faceCascade, 1.1, 10, (255, 255, 255), \"Face\", clf)\n",
    "    return img\n",
    "\n",
    "faceCascade = cv2.CascadeClassifier(\"haarcascade_frontalface_default.xml\")\n",
    "clf = cv2.face.LBPHFaceRecognizer_create()\n",
    "clf.read(\"classifier.xml\")\n",
    "\n",
    "video_capture = cv2.VideoCapture(0)\n",
    "\n",
    "while True:\n",
    "    ret, img = video_capture.read()\n",
    "    img = recognize(img, clf, faceCascade)\n",
    "    cv2.imshow(\"face detection\", img)\n",
    "    \n",
    "    if cv2.waitKey(1) == 13 :\n",
    "        break\n",
    "video_capture.release()\n",
    "cv2.destroyAllWindows()"
   ]
  },
  {
   "cell_type": "code",
   "execution_count": null,
   "id": "93fc79be",
   "metadata": {},
   "outputs": [],
   "source": []
  }
 ],
 "metadata": {
  "kernelspec": {
   "display_name": "Python 3 (ipykernel)",
   "language": "python",
   "name": "python3"
  },
  "language_info": {
   "codemirror_mode": {
    "name": "ipython",
    "version": 3
   },
   "file_extension": ".py",
   "mimetype": "text/x-python",
   "name": "python",
   "nbconvert_exporter": "python",
   "pygments_lexer": "ipython3",
   "version": "3.11.5"
  }
 },
 "nbformat": 4,
 "nbformat_minor": 5
}
